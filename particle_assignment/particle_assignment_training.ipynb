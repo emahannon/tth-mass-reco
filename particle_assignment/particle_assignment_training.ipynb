{
 "cells": [
  {
   "cell_type": "code",
   "execution_count": 16,
   "metadata": {},
   "outputs": [],
   "source": [
    "import keras\n",
    "import os\n",
    "import tempfile\n",
    "import keras.backend as K\n",
    "import math\n",
    "import matplotlib.pyplot as plt\n",
    "import numpy as np\n",
    "import sklearn\n",
    "import tensorflow as tf\n",
    "import time\n",
    "import pandas as pd\n",
    "import seaborn as sns\n",
    "import csv \n",
    "from sklearn.preprocessing import StandardScaler\n",
    "\n",
    "from keras import optimizers, metrics\n",
    "from keras import activations\n",
    "from keras.layers import Dense, LayerNormalization, BatchNormalization, Dropout, GaussianNoise, Activation, Add\n",
    "\n",
    "from tools.constants import column_labels_particle_assignment_btags as column_names"
   ]
  },
  {
   "cell_type": "code",
   "execution_count": 17,
   "metadata": {},
   "outputs": [],
   "source": [
    "\"\"\" Data augmentation functions. Rotate all particles of an event (or a permutation of an event)\n",
    "    by a random angle. \"\"\"\n",
    "\n",
    "def random_rotation(X,deltas_phi,num_vectors,met):\n",
    "\n",
    "    for i in range(num_vectors):\n",
    "        \n",
    "        R = np.sqrt((X[:,4*i+0]**2 + X[:,4*i+1]**2))\n",
    "        old_phis = np.arctan2(X[:,4*i+1],X[:,4*i+0])\n",
    "        new_phis = old_phis + deltas_phi\n",
    "\n",
    "        angles_sin = np.sin(new_phis)\n",
    "        angles_cos = np.cos(new_phis)\n",
    "\n",
    "        X[:,4*i+0] = angles_cos * R\n",
    "        X[:,4*i+1] = angles_sin * R\n",
    "        \n",
    "    if met:\n",
    "        return random_rotation_MET(X, deltas_phi)\n",
    "    else:\n",
    "        return X\n",
    "\n",
    "\n",
    "def random_rotation_MET(X, deltas_phi):\n",
    "    # Indices based on the data files structure.\n",
    "    met_x_index = -6\n",
    "    met_y_index = -5\n",
    "\n",
    "    R = np.sqrt((X[:,met_x_index]**2 + X[:,met_y_index]**2))\n",
    "    old_phis = np.arctan2(X[:,met_y_index],(X[:,met_x_index]))\n",
    "    new_phis = old_phis + deltas_phi\n",
    "\n",
    "    angles_sin = np.sin(new_phis)\n",
    "    angles_cos = np.cos(new_phis)\n",
    "\n",
    "    X[:,met_x_index] = angles_cos * R\n",
    "    X[:,met_y_index] = angles_sin * R\n",
    "\n",
    "    return X\n",
    "\n",
    "\n",
    "def data_rotation(X, num_vectors_X = 11, met = True):  \n",
    "    \n",
    "    deltas_phi = np.random.rand(X.shape[0])*2*math.pi\n",
    "    X = random_rotation(X,deltas_phi,num_vectors_X,met)\n",
    "        \n",
    "    return X\n",
    "\n",
    "\"\"\" Data generator class. Used to serve data to the neural network.\n",
    "    Modified from source https://stanford.edu/~shervine/blog/keras-how-to-generate-data-on-the-fly \"\"\"\n",
    "\n",
    "class DataGenerator(keras.utils.Sequence):\n",
    "\n",
    "    def __init__(self, list_IDs, labels, batch_size=32, n_features=77, shuffle=True,\\\n",
    "                scaler = \"scaler_params/particle_assignment_scaler_params.csv\", data_path = \"data/particle_assignment_training_data/data/\",\\\n",
    "                with_ids = False, augmentation = False):\n",
    "        self.n_features = n_features\n",
    "        self.batch_size = batch_size\n",
    "        self.labels = labels\n",
    "        self.list_IDs = list_IDs\n",
    "        self.shuffle = shuffle\n",
    "        self.data_path = data_path\n",
    "        self.with_ids = with_ids\n",
    "        self.augmentation = augmentation\n",
    "        with open(scaler) as f:\n",
    "            scaler_params = np.loadtxt(f, delimiter=\",\")\n",
    "            self.scaler = scaler_params\n",
    "        self.on_epoch_end()\n",
    "\n",
    "    def __len__(self):\n",
    "        'Denotes the number of batches per epoch'\n",
    "        return int(np.ceil(len(self.list_IDs) / self.batch_size))\n",
    "\n",
    "    def __getitem__(self, index):\n",
    "        'Generate one batch of data'\n",
    "        # Generate indexes of the batch\n",
    "        indexes = self.indexes[index*self.batch_size:(index+1)*self.batch_size]\n",
    "\n",
    "        # Find list of IDs\n",
    "        list_IDs_temp = [self.list_IDs[k] for k in indexes]\n",
    "        # Generate data\n",
    "        X, y, weights = self.__data_generation(list_IDs_temp)\n",
    "\n",
    "        return X, y, weights\n",
    "\n",
    "    def on_epoch_end(self):\n",
    "        'Updates indexes after each epoch'\n",
    "        self.indexes = np.arange(len(self.list_IDs))\n",
    "        if self.shuffle == True:\n",
    "            np.random.shuffle(self.indexes)\n",
    "\n",
    "    def __data_generation(self, list_IDs_temp):\n",
    "        'Generates data containing batch_size samples as X : (n_samples, *dim, n_channels)'\n",
    "        \n",
    "        # Initialization\n",
    "        X = np.zeros((1,self.n_features),dtype=float)\n",
    "        y = np.zeros((1,5),dtype=int)\n",
    "        \n",
    "        for i, ID in enumerate(list_IDs_temp):\n",
    "            X = np.concatenate((X,np.load(self.data_path + str(int(ID)) + '.npy')),axis=0)\n",
    "            y = np.concatenate((y,self.labels[str(int(ID))]),axis=0)\n",
    "        X = X[1:,:column_names.index(\"true main px\")]       # Get rid of the init row. Get rid of information you do not want to use (truth information).\n",
    "        y = y[1:,:]                                         # Get rid of the init row.\n",
    "\n",
    "        weights = np.reciprocal(X[:,-1])*200        # Sample weights are based on the number of permutations of an event - more permutations means smaller sample weight.\n",
    "        X = X[:,:-1]        # Get rid of weights column.\n",
    "\n",
    "        if self.with_ids:\n",
    "            X = np.concatenate((X[:,0].reshape(len(X[:,0]),1),(X[:,1:]-self.scaler[0])/self.scaler[1]), axis = 1)   # Standardize everything except for EVENT IDS...\n",
    "        else:\n",
    "            X = X[:,1:]        # Get rid of EVENT ID column.\n",
    "\n",
    "        if self.augmentation:\n",
    "            X = data_rotation(X, num_vectors_X = 11, met = True)\n",
    "        \n",
    "        if self.with_ids:\n",
    "            pass\n",
    "        else:\n",
    "            X = (X-self.scaler[0])/self.scaler[1]     # Standardize\n",
    "        return X, y, weights\n",
    "    \n",
    "    def get_all(self):\n",
    "        X = []\n",
    "        y = []\n",
    "\n",
    "        for i in range(self.__len__()):\n",
    "            X_y = self.__getitem__(i)\n",
    "            X += X_y[0].tolist()\n",
    "            y += X_y[1].tolist()\n",
    "\n",
    "        X = np.array(X)\n",
    "        y = np.array(y)\n",
    "        \n",
    "        return X, y"
   ]
  },
  {
   "cell_type": "code",
   "execution_count": 18,
   "metadata": {},
   "outputs": [],
   "source": [
    "\"\"\" Load data from files. \"\"\"\n",
    "\n",
    "with open(\"data/particle_assignment_training_data/labels_dict_ttH.csv\") as f:\n",
    "    lines_ttH = f.readlines()\n",
    "with open(\"data/particle_assignment_training_data/labels_dict_ttZ.csv\") as f:\n",
    "    lines_ttZ = f.readlines()\n",
    "\n",
    "with open(\"data/particle_assignment_training_data/train_ids_ttH.csv\") as f:\n",
    "    train_ids_ttH = np.loadtxt(f, delimiter=\",\")\n",
    "with open(\"data/particle_assignment_training_data/train_ids_ttZ.csv\") as f:\n",
    "    train_ids_ttZ = np.loadtxt(f, delimiter=\",\")\n",
    "\n",
    "with open(\"data/particle_assignment_training_data/test_ids_ttH.csv\") as f:\n",
    "    test_ids_ttH = np.loadtxt(f, delimiter=\",\")\n",
    "with open(\"data/particle_assignment_training_data/test_ids_ttZ.csv\") as f:\n",
    "    test_ids_ttZ = np.loadtxt(f, delimiter=\",\")\n",
    "\n",
    "with open(\"data/particle_assignment_training_data/val_ids_ttH.csv\") as f:\n",
    "    val_ids_ttH = np.loadtxt(f, delimiter=\",\")\n",
    "with open(\"data/particle_assignment_training_data/val_ids_ttZ.csv\") as f:\n",
    "    val_ids_ttZ = np.loadtxt(f, delimiter=\",\")\n",
    "\n",
    "train_ids = np.concatenate((train_ids_ttH,train_ids_ttZ), axis = 0)\n",
    "test_ids = np.concatenate((test_ids_ttH,test_ids_ttZ), axis = 0)\n",
    "val_ids = np.concatenate((val_ids_ttH,val_ids_ttZ), axis = 0)\n",
    "lines = np.concatenate((lines_ttH,lines_ttZ), axis = 0)\n",
    "\n",
    "labels_dict = {}\n",
    "\n",
    "for line in lines:\n",
    "    row = np.fromstring(line, dtype=float, sep=',')\n",
    "    key = str(int(row[0]))\n",
    "    value = (row[1:]).reshape((int(len(row[1:])/5),5))\n",
    "    labels_dict[key] = value\n",
    "\n",
    "training_generator = DataGenerator(train_ids, labels_dict, shuffle=True, with_ids=False, augmentation = True, data_path=\"data/particle_assignment_training_data/data/\")\n",
    "validation_generator = DataGenerator(val_ids, labels_dict, with_ids=False, augmentation = False, data_path=\"data/particle_assignment_training_data/data/\")\n",
    "testing_generator = DataGenerator(test_ids, labels_dict, shuffle=False, with_ids=False, augmentation = False, data_path=\"data/particle_assignment_training_data/data/\")"
   ]
  },
  {
   "cell_type": "code",
   "execution_count": 19,
   "metadata": {},
   "outputs": [
    {
     "data": {
      "text/plain": [
       "' for i in range(len(training_generator)):\\n    num_samples += len(training_generator[i][0])\\nprint(num_samples) '"
      ]
     },
     "execution_count": 19,
     "metadata": {},
     "output_type": "execute_result"
    }
   ],
   "source": [
    "\"\"\" Count all training samples. \"\"\"\n",
    "num_samples = 0\n",
    "for i in range(len(training_generator)):\n",
    "    num_samples += len(training_generator[i][0])\n",
    "print(num_samples)"
   ]
  },
  {
   "cell_type": "code",
   "execution_count": 20,
   "metadata": {},
   "outputs": [
    {
     "data": {
      "text/plain": [
       "' X_train = np.empty((num_samples,71), dtype=float)\\nc = 0\\n\\nfor i in range(len(training_generator)):\\n    rows = len(training_generator[i][0][:])\\n\\n    X_train[c:c+rows,:] = training_generator[i][0][:]\\n    c += rows\\n\\nX_train = X_train[1:,:]\\nscaler = StandardScaler()\\nscaler.fit(X_train)\\n\\nf = open(\"scaler_params/particle_assignment_scaler_params_btags.csv\", \"w\")\\nwriter = csv.writer(f)\\nwriter.writerow(scaler.mean_)\\nwriter.writerow(scaler.scale_)\\nf.close() '"
      ]
     },
     "execution_count": 20,
     "metadata": {},
     "output_type": "execute_result"
    }
   ],
   "source": [
    "\"\"\" Get scaler params from training data. \"\"\"\n",
    "\n",
    "\"\"\" X_train = np.empty((num_samples,71), dtype=float)\n",
    "c = 0\n",
    "\n",
    "for i in range(len(training_generator)):\n",
    "    rows = len(training_generator[i][0][:])\n",
    "\n",
    "    X_train[c:c+rows,:] = training_generator[i][0][:]\n",
    "    c += rows\n",
    "\n",
    "X_train = X_train[1:,:]\n",
    "scaler = StandardScaler()\n",
    "scaler.fit(X_train)\n",
    "\n",
    "f = open(\"scaler_params/particle_assignment_scaler_params.csv\", \"w\")\n",
    "writer = csv.writer(f)\n",
    "writer.writerow(scaler.mean_)\n",
    "writer.writerow(scaler.scale_)\n",
    "f.close() \"\"\""
   ]
  },
  {
   "cell_type": "code",
   "execution_count": 21,
   "metadata": {},
   "outputs": [
    {
     "name": "stdout",
     "output_type": "stream",
     "text": [
      "[[1.71793148 1.71420458 1.92717606 1.01680849 1.01062206]\n",
      " [0.28206852 0.28579542 0.07282394 0.98319151 0.98937794]]\n"
     ]
    }
   ],
   "source": [
    "\"\"\" Get intial biases and weights for the unbalanced classification problem. \"\"\"\n",
    "y_train = np.empty((num_samples,5), dtype=int)\n",
    "c = 0\n",
    "\n",
    "for i in range(len(training_generator)):\n",
    "    rows = len(training_generator[i][1][:])\n",
    "    y_train[c:c+rows,:] = training_generator[i][1][:]\n",
    "    c += rows\n",
    "\n",
    "y_train = y_train[1:,:]\n",
    "\n",
    "correct = np.count_nonzero(y_train, axis=0)\n",
    "incorrect = np.ones(5)*y_train.shape[0] - correct\n",
    "total = correct + incorrect\n",
    "initial_bias = np.log([correct/incorrect])\n",
    "initial_bias = initial_bias.flatten()\n",
    "\n",
    "correct_weight = (total /2/correct) \n",
    "incorrect_weight = (total /2/incorrect) \n",
    "\n",
    "weights_means = (correct_weight + incorrect_weight)/2\n",
    "correct_weight /= weights_means\n",
    "incorrect_weight /= weights_means\n",
    "\n",
    "class_weight = [{0: incorrect_weight[i], 1: correct_weight[i]} for i in range(len(correct_weight))]\n",
    "\n",
    "class_weight_arr = np.concatenate((correct_weight,incorrect_weight))\n",
    "class_weight_arr = np.reshape(class_weight_arr, (2,5))\n",
    "print(class_weight_arr)"
   ]
  },
  {
   "cell_type": "code",
   "execution_count": 22,
   "metadata": {},
   "outputs": [],
   "source": [
    "\"\"\" Loss function for unbalanced classification. \"\"\"\n",
    "# source: https://stackoverflow.com/questions/46009619/keras-weighted-binary-crossentropy\n",
    "def create_weighted_binary_crossentropy(ones_weights,zeros_weights):\n",
    "\n",
    "    def weighted_binary_crossentropy(y_true, y_pred):\n",
    "\n",
    "        b_ce = K.binary_crossentropy(y_true, y_pred)\n",
    "        weight_vector = y_true * ones_weights + (1. - y_true) * zeros_weights\n",
    "        weighted_b_ce = weight_vector * b_ce\n",
    "\n",
    "        return K.mean(weighted_b_ce)\n",
    "\n",
    "    return weighted_binary_crossentropy"
   ]
  },
  {
   "cell_type": "code",
   "execution_count": 38,
   "metadata": {},
   "outputs": [],
   "source": [
    "\"\"\" Metrics. \"\"\"\n",
    "from keras.regularizers import l2\n",
    "\n",
    "# source: https://neptune.ai/blog/implementing-the-macro-f1-score-in-keras\n",
    "def custom_f1(y_true, y_pred):    \n",
    "    def recall_m(y_true, y_pred):\n",
    "        TP = K.sum(K.round(K.clip(y_true * y_pred, 0, 1)))\n",
    "        Positives = K.sum(K.round(K.clip(y_true, 0, 1)))\n",
    "        \n",
    "        recall = TP / (Positives+K.epsilon())    \n",
    "        return recall \n",
    "    \n",
    "    \n",
    "    def precision_m(y_true, y_pred):\n",
    "        TP = K.sum(K.round(K.clip(y_true * y_pred, 0, 1)))\n",
    "        Pred_Positives = K.sum(K.round(K.clip(y_pred, 0, 1)))\n",
    "    \n",
    "        precision = TP / (Pred_Positives+K.epsilon())\n",
    "        return precision \n",
    "    \n",
    "    precision, recall = precision_m(y_true, y_pred), recall_m(y_true, y_pred)\n",
    "    \n",
    "    return 2*((precision*recall)/(precision+recall+K.epsilon()))\n",
    "\n",
    "# source: https://stackoverflow.com/questions/39895742/matthews-correlation-coefficient-with-keras\n",
    "def matthews_correlation(y_true, y_pred):\n",
    "    y_pred_pos = K.round(K.clip(y_pred, 0, 1))\n",
    "    y_pred_neg = 1 - y_pred_pos\n",
    "\n",
    "    y_pos = K.round(K.clip(y_true, 0, 1))\n",
    "    y_neg = 1 - y_pos\n",
    "\n",
    "    tp = K.sum(y_pos * y_pred_pos)\n",
    "    tn = K.sum(y_neg * y_pred_neg)\n",
    "\n",
    "    fp = K.sum(y_neg * y_pred_pos)\n",
    "    fn = K.sum(y_pos * y_pred_neg)\n",
    "\n",
    "    numerator = (tp * tn - fp * fn)\n",
    "    denominator = K.sqrt((tp + fp) * (tp + fn) * (tn + fp) * (tn + fn))\n",
    "\n",
    "    return numerator / (denominator + K.epsilon())\n",
    "\n",
    "METRICS = [\n",
    "      keras.metrics.TruePositives(name='tp'),\n",
    "      keras.metrics.FalsePositives(name='fp'),\n",
    "      keras.metrics.TrueNegatives(name='tn'),\n",
    "      keras.metrics.FalseNegatives(name='fn'), \n",
    "      keras.metrics.BinaryAccuracy(name='accuracy'),\n",
    "      keras.metrics.Precision(name='precision'),\n",
    "      keras.metrics.Recall(name='recall'),\n",
    "      keras.metrics.AUC(name='auc'),\n",
    "      keras.metrics.AUC(name='prc', curve='PR'), # precision-recall curve\n",
    "      matthews_correlation,\n",
    "      custom_f1,\n",
    "]\n",
    "\n",
    "\"\"\" NN architecture defined in this model. \"\"\"\n",
    "\n",
    "def lep_assignment_model(num_features=42, bias = None):\n",
    "    if bias is not None:\n",
    "        bias1 = tf.keras.initializers.Constant(bias[0])\n",
    "        bias2 = tf.keras.initializers.Constant(bias[1])\n",
    "        bias3 = tf.keras.initializers.Constant(bias[2])\n",
    "        bias4 = tf.keras.initializers.Constant(bias[3])\n",
    "        bias5 = tf.keras.initializers.Constant(bias[4])\n",
    "\n",
    "    i = keras.Input(shape = (num_features,))\n",
    "\n",
    "    dropout_1 = Dropout(0.2)(i)\n",
    "    dense_1 = Dense(500, kernel_regularizer=l2(0.00001), bias_regularizer=l2(0.00001))(dropout_1)\n",
    "    relu_1 = Activation(activations.relu)(dense_1)\n",
    "\n",
    "    dropout_2 = Dropout(0.2)(relu_1)\n",
    "    dense_2 = Dense(500, kernel_regularizer=l2(0.00001), bias_regularizer=l2(0.00001))(dropout_2)\n",
    "    relu_2 = Activation(activations.relu)(dense_2)\n",
    "\n",
    "    dropout_3 = Dropout(0.2)(relu_2)\n",
    "    dense_3 = Dense(500, kernel_regularizer=l2(0.00001), bias_regularizer=l2(0.00001))(dropout_3)\n",
    "    add_1 = Add()([dense_3,dense_1])\n",
    "    relu_3 = Activation(activations.relu)(add_1)\n",
    "\n",
    "    dropout_4 = Dropout(0.2)(relu_3)\n",
    "    dense_4 = Dense(500, kernel_regularizer=l2(0.00001), bias_regularizer=l2(0.00001))(dropout_4)\n",
    "    relu_4 = Activation(activations.relu)(dense_4)\n",
    "\n",
    "    dropout_5 = Dropout(0.2)(relu_4)\n",
    "    dense_5 = Dense(500, kernel_regularizer=l2(0.00001), bias_regularizer=l2(0.00001))(dropout_5)\n",
    "    add_2 = Add()([dense_5,add_1])\n",
    "    relu_5 = Activation(activations.relu)(add_2)\n",
    "\n",
    "    dropout_6 = Dropout(0.2)(relu_5)\n",
    "    dense_6 = Dense(500, kernel_regularizer=l2(0.00001), bias_regularizer=l2(0.00001))(dropout_6)\n",
    "    relu_6 = Activation(activations.relu)(dense_6)\n",
    "\n",
    "    dropout_7 = Dropout(0.2)(relu_6)\n",
    "    o1 = Dense(1, activation='sigmoid', bias_initializer=bias1, kernel_regularizer=l2(0.00001), bias_regularizer=l2(0.00001))(dropout_7)\n",
    "    o2 = Dense(1, activation='sigmoid', bias_initializer=bias2, kernel_regularizer=l2(0.00001), bias_regularizer=l2(0.00001))(dropout_7)\n",
    "    o3 = Dense(1, activation='sigmoid', bias_initializer=bias3, kernel_regularizer=l2(0.00001), bias_regularizer=l2(0.00001))(dropout_7)\n",
    "    o4 = Dense(1, activation='sigmoid', bias_initializer=bias4, kernel_regularizer=l2(0.00001), bias_regularizer=l2(0.00001))(dropout_7)\n",
    "    o5 = Dense(1, activation='sigmoid', bias_initializer=bias5, kernel_regularizer=l2(0.00001), bias_regularizer=l2(0.00001))(dropout_7)\n",
    "    o = keras.layers.Concatenate(axis=1)([o1,o2,o3,o4,o5])\n",
    "\n",
    "    model = keras.Model(i, o)\n",
    "    model.compile(loss=create_weighted_binary_crossentropy(class_weight_arr[0],class_weight_arr[1]), optimizer=optimizers.Adam(lr=0.0003), metrics=METRICS)\n",
    "    return model\n",
    "\n",
    "def scheduler(epoch, lr):\n",
    "    return lr * 0.99"
   ]
  },
  {
   "cell_type": "code",
   "execution_count": 39,
   "metadata": {},
   "outputs": [],
   "source": [
    "\"\"\" Init model. \"\"\"\n",
    "model = lep_assignment_model(67+4, initial_bias)\n",
    "callback1 = tf.keras.callbacks.EarlyStopping(monitor='val_loss', mode=\"min\", patience=5, restore_best_weights=True)\n",
    "callback2 = tf.keras.callbacks.LearningRateScheduler(scheduler)\n",
    "initial_weights = os.path.join(tempfile.mkdtemp(), 'initial_weights')\n",
    "model.save_weights(initial_weights)"
   ]
  },
  {
   "cell_type": "code",
   "execution_count": 46,
   "metadata": {},
   "outputs": [
    {
     "name": "stdout",
     "output_type": "stream",
     "text": [
      "Epoch 1/5\n",
      "85/85 [==============================] - 472s 6s/step - loss: 0.2581 - tp: 5400839.0000 - fp: 5063903.0000 - tn: 14379571.0000 - fn: 1477807.0000 - accuracy: 0.7515 - precision: 0.5161 - recall: 0.7852 - auc: 0.8556 - prc: 0.7246 - matthews_correlation: 0.4710 - custom_f1: 0.6228 - val_loss: 0.2351 - val_tp: 696976.0000 - val_fp: 606563.0000 - val_tn: 1835481.0000 - val_fn: 168540.0000 - val_accuracy: 0.7657 - val_precision: 0.5347 - val_recall: 0.8053 - val_auc: 0.8750 - val_prc: 0.7713 - val_matthews_correlation: 0.5016 - val_custom_f1: 0.6431\n",
      "Epoch 2/5\n",
      "85/85 [==============================] - 471s 6s/step - loss: 0.2573 - tp: 5403382.0000 - fp: 5051253.0000 - tn: 14392221.0000 - fn: 1475264.0000 - accuracy: 0.7521 - precision: 0.5168 - recall: 0.7855 - auc: 0.8563 - prc: 0.7263 - matthews_correlation: 0.4730 - custom_f1: 0.6241 - val_loss: 0.2370 - val_tp: 703653.0000 - val_fp: 586102.0000 - val_tn: 1855942.0000 - val_fn: 161863.0000 - val_accuracy: 0.7739 - val_precision: 0.5456 - val_recall: 0.8130 - val_auc: 0.8787 - val_prc: 0.7699 - val_matthews_correlation: 0.5155 - val_custom_f1: 0.6524\n",
      "Epoch 3/5\n",
      "85/85 [==============================] - 459s 5s/step - loss: 0.2570 - tp: 5408883.0000 - fp: 5064842.0000 - tn: 14378632.0000 - fn: 1469763.0000 - accuracy: 0.7517 - precision: 0.5164 - recall: 0.7863 - auc: 0.8561 - prc: 0.7262 - matthews_correlation: 0.4722 - custom_f1: 0.6236 - val_loss: 0.2364 - val_tp: 705541.0000 - val_fp: 616400.0000 - val_tn: 1825644.0000 - val_fn: 159975.0000 - val_accuracy: 0.7653 - val_precision: 0.5337 - val_recall: 0.8152 - val_auc: 0.8762 - val_prc: 0.7673 - val_matthews_correlation: 0.5045 - val_custom_f1: 0.6448\n",
      "Epoch 4/5\n",
      "85/85 [==============================] - 459s 5s/step - loss: 0.2569 - tp: 5421303.0000 - fp: 5066071.0000 - tn: 14377403.0000 - fn: 1457343.0000 - accuracy: 0.7522 - precision: 0.5169 - recall: 0.7881 - auc: 0.8570 - prc: 0.7264 - matthews_correlation: 0.4739 - custom_f1: 0.6247 - val_loss: 0.2353 - val_tp: 699524.0000 - val_fp: 612930.0000 - val_tn: 1829114.0000 - val_fn: 165992.0000 - val_accuracy: 0.7645 - val_precision: 0.5330 - val_recall: 0.8082 - val_auc: 0.8733 - val_prc: 0.7630 - val_matthews_correlation: 0.5007 - val_custom_f1: 0.6424\n",
      "Epoch 5/5\n",
      "85/85 [==============================] - 451s 5s/step - loss: 0.2565 - tp: 5410734.0000 - fp: 5053146.0000 - tn: 14390328.0000 - fn: 1467912.0000 - accuracy: 0.7523 - precision: 0.5171 - recall: 0.7866 - auc: 0.8568 - prc: 0.7274 - matthews_correlation: 0.4731 - custom_f1: 0.6242 - val_loss: 0.2380 - val_tp: 708434.0000 - val_fp: 604446.0000 - val_tn: 1837598.0000 - val_fn: 157082.0000 - val_accuracy: 0.7698 - val_precision: 0.5396 - val_recall: 0.8185 - val_auc: 0.8780 - val_prc: 0.7630 - val_matthews_correlation: 0.5135 - val_custom_f1: 0.6507\n"
     ]
    }
   ],
   "source": [
    "\"\"\" Training. \"\"\"\n",
    "history = model.fit(training_generator, validation_data=validation_generator, epochs=5, verbose=1, callbacks=[callback1,callback2])"
   ]
  },
  {
   "cell_type": "code",
   "execution_count": 49,
   "metadata": {},
   "outputs": [
    {
     "name": "stdout",
     "output_type": "stream",
     "text": [
      "INFO:tensorflow:Assets written to: models/particle_assignment_model_btags/assets\n"
     ]
    }
   ],
   "source": [
    "\"\"\" Save trained model. \"\"\"\n",
    "import pickle\n",
    "\n",
    "model.save_weights(\"models/particle_assignment_model\")\n",
    "model.save(\"models/particle_assignment_model\")\n",
    "\n",
    "with open('models/particle_assignment_model_history', 'wb') as file_pi:\n",
    "        pickle.dump(history.history, file_pi)"
   ]
  },
  {
   "cell_type": "code",
   "execution_count": 42,
   "metadata": {},
   "outputs": [
    {
     "data": {
      "image/png": "[encoded data removed]",
      "text/plain": [
       "<Figure size 432x288 with 1 Axes>"
      ]
     },
     "metadata": {
      "needs_background": "light"
     },
     "output_type": "display_data"
    },
    {
     "data": {
      "text/plain": [
       "<Figure size 432x288 with 0 Axes>"
      ]
     },
     "metadata": {},
     "output_type": "display_data"
    }
   ],
   "source": [
    "\"\"\" History plot. \"\"\"\n",
    "plt.plot(history.history['loss'], linewidth=3, color='lime', linestyle='-')\n",
    "plt.plot(history.history['val_loss'], linewidth=3, color='darkorange', linestyle='-')\n",
    "plt.title('Particle assignment learning curves.')\n",
    "plt.ylabel('Loss [-]')\n",
    "plt.xlabel('Epoch')\n",
    "plt.grid()\n",
    "plt.legend(['train loss', 'validation loss'], loc='upper right')\n",
    "plt.savefig('figures/PA_learning_curve.pdf')\n",
    "plt.show()\n",
    "plt.clf()"
   ]
  },
  {
   "cell_type": "code",
   "execution_count": 47,
   "metadata": {},
   "outputs": [
    {
     "data": {
      "image/png": "[encoded data removed]",
      "text/plain": [
       "<Figure size 936x345.6 with 6 Axes>"
      ]
     },
     "metadata": {},
     "output_type": "display_data"
    },
    {
     "data": {
      "image/png": "[encoded data removed]",
      "text/plain": [
       "<Figure size 576x288 with 4 Axes>"
      ]
     },
     "metadata": {},
     "output_type": "display_data"
    }
   ],
   "source": [
    "\"\"\" Confusion matrices. \"\"\"\n",
    "# inspired by source: https://www.tensorflow.org/tutorials/structured_data/imbalanced_data\n",
    "\n",
    "from sklearn.metrics import confusion_matrix\n",
    "\n",
    "test_predictions_baseline = model.predict(testing_generator)\n",
    "\n",
    "n_batches = len(testing_generator)\n",
    "y_test = np.concatenate([testing_generator[i][1] for i in range(n_batches)])\n",
    "\n",
    "\n",
    "fig,axs = plt.subplots(1, 3, figsize=(13,4.8))\n",
    "\n",
    "cm = confusion_matrix(y_test[:,0], test_predictions_baseline[:,0] > 0.5, normalize = 'all')\n",
    "sns.set(font_scale=1.4)\n",
    "sns.heatmap(cm, annot=True, fmt = '.1%', ax=axs[0], vmin = 0, vmax = 0.65)\n",
    "plt.suptitle(\"Confusion matrices at 0.5\", fontsize=19)\n",
    "plt.rcParams.update({'axes.titlesize': 'large'})\n",
    "plt.rcParams.update({'axes.labelsize': 'large'})\n",
    "axs[0].title.set_text('{} assigment'.format(\"Top b jet\"))\n",
    "axs[0].set_ylabel('Actual label')\n",
    "axs[0].set_xlabel('Predicted label')\n",
    "\n",
    "cm = confusion_matrix(y_test[:,1], test_predictions_baseline[:,1] > 0.5, normalize = 'all')\n",
    "sns.set(font_scale=1.4)\n",
    "sns.heatmap(cm, annot=True, fmt = '.1%', ax=axs[1], vmin = 0, vmax = 0.65)\n",
    "\n",
    "axs[1].title.set_text('{} assigment'.format(\"Anti-top b jet\"))\n",
    "\n",
    "\n",
    "cm = confusion_matrix(y_test[:,2], test_predictions_baseline[:,2] > 0.5, normalize = 'all')\n",
    "sns.set(font_scale=1.4)\n",
    "sns.heatmap(cm, annot=True, fmt = '.1%', ax=axs[2], vmin = 0, vmax = 0.65)\n",
    "\n",
    "axs[2].title.set_text('{} assigment'.format(\"Top W boson\"))\n",
    "\n",
    "plt.tight_layout()\n",
    "plt.savefig(\"figures/jest_assignment_btags_.pdf\")\n",
    "plt.show()\n",
    "\n",
    "\n",
    "fig,axs = plt.subplots(1, 2, figsize=(8,4))\n",
    "\n",
    "cm = confusion_matrix(y_test[:,3], test_predictions_baseline[:,3] > 0.5, normalize = 'all')\n",
    "sns.set(font_scale=1.4)\n",
    "sns.heatmap(cm, annot=True, fmt = '.1%', ax=axs[0], vmin = 0, vmax = 0.65)\n",
    "axs[0].title.set_text('{} assigment'.format(\"Hadronical tau lepton\"))\n",
    "axs[0].set_ylabel('Actual label')\n",
    "axs[0].set_xlabel('Predicted label')\n",
    "\n",
    "cm = confusion_matrix(y_test[:,4], test_predictions_baseline[:,4] > 0.5, normalize = 'all')\n",
    "sns.set(font_scale=1.4)\n",
    "sns.heatmap(cm, annot=True, fmt = '.1%', ax=axs[1], vmin = 0, vmax = 0.65)\n",
    "axs[1].title.set_text('{} assigment'.format(\"Anti-top lepton\"))\n",
    "\n",
    "plt.tight_layout()\n",
    "plt.savefig(\"figures/cms.pdf\")\n",
    "plt.show()\n"
   ]
  },
  {
   "cell_type": "code",
   "execution_count": 48,
   "metadata": {},
   "outputs": [
    {
     "name": "stdout",
     "output_type": "stream",
     "text": [
      "tf.Tensor(0.31420153, shape=(), dtype=float32)\n",
      "tf.Tensor(0.4416114, shape=(), dtype=float32)\n",
      "tf.Tensor(0.2315869, shape=(), dtype=float32)\n",
      "tf.Tensor(0.654064, shape=(), dtype=float32)\n",
      "tf.Tensor(0.65451247, shape=(), dtype=float32)\n"
     ]
    }
   ],
   "source": [
    "for i in range(5):\n",
    "    print(matthews_correlation(y_test[:,i].astype('float32'),test_predictions_baseline[:,i].astype('float32')))"
   ]
  }
 ],
 "metadata": {
  "interpreter": {
   "hash": "faf4958e2dce26c676752487d7d4cf22fe757853dc487cc7f633ed9404dfd7e8"
  },
  "kernelspec": {
   "display_name": "Python 3.9.5 64-bit ('conda_env': conda)",
   "language": "python",
   "name": "python3"
  },
  "language_info": {
   "codemirror_mode": {
    "name": "ipython",
    "version": 3
   },
   "file_extension": ".py",
   "mimetype": "text/x-python",
   "name": "python",
   "nbconvert_exporter": "python",
   "pygments_lexer": "ipython3",
   "version": "3.9.5"
  },
  "orig_nbformat": 4
 },
 "nbformat": 4,
 "nbformat_minor": 2
}
