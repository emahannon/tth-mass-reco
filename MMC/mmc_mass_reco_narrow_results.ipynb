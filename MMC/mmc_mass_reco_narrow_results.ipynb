{
 "cells": [
  {
   "cell_type": "code",
   "execution_count": 1,
   "metadata": {},
   "outputs": [
    {
     "name": "stdout",
     "output_type": "stream",
     "text": [
      "Welcome to JupyROOT 6.22/08\n"
     ]
    }
   ],
   "source": [
    "import collections\n",
    "import csv\n",
    "import keras\n",
    "import keras.backend as K\n",
    "import math\n",
    "import matplotlib.pyplot as plt\n",
    "import numpy as np\n",
    "import pandas as pd\n",
    "import random\n",
    "import tensorflow as tf\n",
    "import time\n",
    "import shap\n",
    "import ROOT as root\n",
    "from sklearn.preprocessing import StandardScaler\n",
    "\n",
    "from keras import optimizers\n",
    "from keras.regularizers import l2\n",
    "from keras.layers import Dense, LayerNormalization, BatchNormalization, Dropout, GaussianNoise, Activation, Add\n",
    "from keras import activations\n",
    "from ROOT import TFile, TLorentzVector\n",
    "\n",
    "from tools.constants import *"
   ]
  },
  {
   "cell_type": "code",
   "execution_count": 2,
   "metadata": {},
   "outputs": [
    {
     "name": "stdout",
     "output_type": "stream",
     "text": [
      "0.8589531680440772\n",
      "0.8236914600550964\n",
      "(1815,)\n",
      "(1089,)\n",
      "131.8249021167415 59.69592535588599\n"
     ]
    }
   ],
   "source": [
    "import numpy as np\n",
    "import matplotlib.pyplot as plt\n",
    "\n",
    "tth_filenames = [\"data/mmc/MMC_output_test_narrow_ttH.csv\"]\n",
    "ttz_filenames = [\"data/mmc/MMC_output_test_narrow_ttZ.csv\"]\n",
    "\n",
    "tth_data = []\n",
    "ttz_data = []\n",
    "\n",
    "for filename in tth_filenames:\n",
    "    with open(filename) as f:   \n",
    "        data  = np.loadtxt(f, delimiter=\",\")\n",
    "        tth_data += data.tolist()\n",
    "\n",
    "for filename in ttz_filenames:\n",
    "    with open(filename) as f:\n",
    "        data  = np.loadtxt(f, delimiter=\",\")\n",
    "        ttz_data += data.tolist()\n",
    "\n",
    "print(np.count_nonzero(tth_data)/len(tth_data))\n",
    "print(np.count_nonzero(ttz_data)/len(ttz_data))\n",
    "tth_data = np.array(tth_data)\n",
    "ttz_data = np.array(ttz_data)\n",
    "print(tth_data.shape)\n",
    "print(ttz_data.shape)\n",
    "\n",
    "tth_nonzero = tth_data[np.nonzero(tth_data)]\n",
    "\n",
    "print(np.mean(tth_nonzero), np.std(tth_nonzero))"
   ]
  },
  {
   "cell_type": "code",
   "execution_count": 7,
   "metadata": {},
   "outputs": [
    {
     "name": "stdout",
     "output_type": "stream",
     "text": [
      "\u001b[34;1mApplying ATLAS style settings\u001b[0m\n",
      "247.5437567722099\n",
      "118.98265392234455\n",
      "33.54761716558703\n",
      " FCN=138.963 FROM MIGRAD    STATUS=CONVERGED      82 CALLS          83 TOTAL\n",
      "                     EDM=4.39119e-07    STRATEGY= 1      ERROR MATRIX ACCURATE \n",
      "  EXT PARAMETER                                   STEP         FIRST   \n",
      "  NO.   NAME      VALUE            ERROR          SIZE      DERIVATIVE \n",
      "   1  Constant     2.47544e+02   8.87135e+00   3.83546e-02  -3.39160e-05\n",
      "   2  Mean         1.18983e+02   1.06958e+00   5.21854e-03  -9.80415e-04\n",
      "   3  Sigma        3.35476e+01   8.03743e-01   2.65531e-05   2.25072e-02\n"
     ]
    },
    {
     "name": "stderr",
     "output_type": "stream",
     "text": [
      "`np.int` is a deprecated alias for the builtin `int`. To silence this warning, use `int` by itself. Doing this will not modify any behavior and is safe. When replacing `np.int`, you may wish to use e.g. `np.int64` or `np.int32` to specify the precision. If you wish to review your current use, check the release note link for additional information.\n",
      "Deprecated in NumPy 1.20; for more details and guidance: https://numpy.org/devdocs/release/1.20.0-notes.html#deprecations\n",
      "`np.int` is a deprecated alias for the builtin `int`. To silence this warning, use `int` by itself. Doing this will not modify any behavior and is safe. When replacing `np.int`, you may wish to use e.g. `np.int64` or `np.int32` to specify the precision. If you wish to review your current use, check the release note link for additional information.\n",
      "Deprecated in NumPy 1.20; for more details and guidance: https://numpy.org/devdocs/release/1.20.0-notes.html#deprecations\n",
      "Warning in <TROOT::Append>: Replacing existing TH1: ttH (Potential memory leak).\n",
      "Warning in <TROOT::Append>: Replacing existing TH1: ttZ (Potential memory leak).\n",
      "Info in <TCanvas::Print>: pdf file figures/mass_histo_narrow_root_mmc_btags.pdf has been created\n"
     ]
    }
   ],
   "source": [
    "import atlasplots as aplt\n",
    "import root_numpy\n",
    "from ROOT import TF1, TLine\n",
    "\n",
    "aplt.set_atlas_style()\n",
    "\n",
    "H_line = TLine(125.18,0,125.18,1000)\n",
    "H_line.SetLineStyle(9)\n",
    "H_line.SetLineWidth(3)\n",
    "Z_line = TLine(91.19,0,91.19,1000)\n",
    "Z_line.SetLineStyle(9)\n",
    "Z_line.SetLineWidth(3)\n",
    "\n",
    "gauss_fit_2 = TF1(\"gauss_fit_2\",\"gaus(0)\",80,140)\n",
    "gauss_fit_2.SetParameters(1, 1, 1)\n",
    "\n",
    "\n",
    "\n",
    "ttH = root.TH1F(\"ttH\",\"\",20,1,300)\n",
    "root_numpy.fill_hist(ttH, tth_data)\n",
    "\n",
    "weights1 = np.ones(len(ttz_data))*(len(tth_data)/len(ttz_data))\n",
    "\n",
    "ttZ = root.TH1F(\"ttZ\",\"\",20,1,300)\n",
    "root_numpy.fill_hist(ttZ, ttz_data, weights1)\n",
    "\n",
    "\n",
    "\n",
    "fig, ax = aplt.subplots(1, 1)\n",
    "\n",
    "ttH.Fit(\"gauss_fit_2\",\"0\")\n",
    "gauss_fit_2.SetNpx(1000)\n",
    "#ax.plot(gauss_fit_2, label=\"Fit\", labelfmt=\"L\", linecolor=root.kRed+1, linewidth=3)\n",
    "\n",
    "\n",
    "\n",
    "ttH_fit = ttH.GetFunction(\"gauss_fit_2\")\n",
    "print(ttH_fit.GetParameter(0))\n",
    "print(ttH_fit.GetParameter(1))\n",
    "print(ttH_fit.GetParameter(2))\n",
    "ax.plot(H_line, linecolor='black', label=None, labelfmt=\"L\")\n",
    "ax.plot(Z_line, linecolor='black', label=None, labelfmt=\"L\")\n",
    "\n",
    "ax.plot(ttH, linecolor='blue', linewidth=3, label=\"ttH\", labelfmt=\"L\")\n",
    "ax.plot(ttZ, linecolor=807, linewidth=3, label=\"ttZ\", labelfmt=\"L\")\n",
    "\n",
    "ax.set_xlim(0, 300)\n",
    "ax.set_ylim(0, 400)\n",
    "ax.set_xlabel(\"Mass [GeV]\")\n",
    "ax.set_ylabel(\"Events\")\n",
    "ax.add_margins(top=0.15)\n",
    "ax.legend(loc=(0.77, 0.7, 0.95, 0.92))\n",
    "fig.savefig(\"figures/mass_histo_narrow_root_mmc.pdf\")"
   ]
  },
  {
   "cell_type": "code",
   "execution_count": 4,
   "metadata": {},
   "outputs": [
    {
     "name": "stdout",
     "output_type": "stream",
     "text": [
      "0.8\n",
      "1.3333333333333333\n"
     ]
    },
    {
     "data": {
      "image/png": "[encoded data removed]",
      "text/plain": [
       "<Figure size 864x576 with 1 Axes>"
      ]
     },
     "metadata": {
      "needs_background": "light"
     },
     "output_type": "display_data"
    },
    {
     "name": "stdout",
     "output_type": "stream",
     "text": [
      "67.63085399449035\n"
     ]
    }
   ],
   "source": [
    "ttH_y_pred = tth_data\n",
    "ttZ_y_pred = ttz_data\n",
    "\n",
    "min_mass = np.min(np.concatenate((ttH_y_pred, ttZ_y_pred)))\n",
    "max_mass = np.max(np.concatenate((ttH_y_pred, ttZ_y_pred)))\n",
    "\n",
    "bg_weight = (len(ttZ_y_pred)+len(ttH_y_pred))/2/len(ttZ_y_pred)\n",
    "h_weight = (len(ttZ_y_pred)+len(ttH_y_pred))/2/len(ttH_y_pred)\n",
    "print(h_weight)\n",
    "print(bg_weight)\n",
    "\n",
    "n_steps = 1000\n",
    "step_size = (max_mass-min_mass)/n_steps\n",
    "current_divider = min_mass\n",
    "\n",
    "correct_h = np.zeros((n_steps))\n",
    "correct_bg = np.zeros((n_steps))\n",
    "\n",
    "incorrect_h = np.zeros((n_steps))\n",
    "incorrect_bg = np.zeros((n_steps))\n",
    "\n",
    "steps = np.zeros((n_steps))\n",
    "\n",
    "for i in range(n_steps):\n",
    "\n",
    "    current_divider = min_mass+i*step_size\n",
    "    steps[i] = current_divider\n",
    "\n",
    "    for h_mass in ttH_y_pred:\n",
    "        if h_mass < current_divider:\n",
    "            incorrect_h[i] += 1\n",
    "        else:\n",
    "            correct_h[i] += 1\n",
    "\n",
    "    for z_mass in ttZ_y_pred:\n",
    "        if z_mass < current_divider:\n",
    "            correct_bg[i] += 1\n",
    "        else:\n",
    "            incorrect_bg[i] += 1\n",
    "\n",
    "steps = steps/1000\n",
    "correct_h /= (len(ttH_y_pred)+len(ttZ_y_pred))/100\n",
    "correct_bg /= (len(ttH_y_pred)+len(ttZ_y_pred))/100\n",
    "plt.figure(figsize=(12,8))\n",
    "plt.plot(steps, correct_h, linewidth=3, color='blue')\n",
    "plt.plot(steps, correct_bg, linewidth=3, color='orange')\n",
    "plt.plot(steps, h_weight*correct_h + bg_weight*correct_bg, linewidth=3, color='magenta')\n",
    "plt.title(\"Mass reconstruction separation curve - NN\")\n",
    "plt.xlabel(\"separation mass [GeV]\")\n",
    "plt.ylabel(\"percentage correct [%]\")\n",
    "plt.legend([\"correct Higgs\",\"correct background\",\"weighted correct total\"])\n",
    "plt.grid()\n",
    "#plt.savefig(\"1213_meeting/separation_curve.pdf\")\n",
    "plt.show()\n",
    "print(np.max(h_weight*correct_h + bg_weight*correct_bg))"
   ]
  }
 ],
 "metadata": {
  "interpreter": {
   "hash": "faf4958e2dce26c676752487d7d4cf22fe757853dc487cc7f633ed9404dfd7e8"
  },
  "kernelspec": {
   "display_name": "Python 3.9.5 64-bit ('conda_env': conda)",
   "name": "python3"
  },
  "language_info": {
   "codemirror_mode": {
    "name": "ipython",
    "version": 3
   },
   "file_extension": ".py",
   "mimetype": "text/x-python",
   "name": "python",
   "nbconvert_exporter": "python",
   "pygments_lexer": "ipython3",
   "version": "3.9.5"
  },
  "orig_nbformat": 4
 },
 "nbformat": 4,
 "nbformat_minor": 2
}
